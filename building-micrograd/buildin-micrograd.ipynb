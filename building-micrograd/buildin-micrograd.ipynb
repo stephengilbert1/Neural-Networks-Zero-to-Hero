{
 "cells": [
  {
   "cell_type": "code",
   "execution_count": null,
   "id": "05e90e18-641f-4f23-a7bb-dc411691bbad",
   "metadata": {},
   "outputs": [],
   "source": [
    "import math\n",
    "import numpy as np\n",
    "import matplotlib.pyplot as plt\n",
    "%matplotlib inline"
   ]
  },
  {
   "cell_type": "code",
   "execution_count": null,
   "id": "bbca1968-944e-4e1c-8160-8819fb135b78",
   "metadata": {},
   "outputs": [],
   "source": [
    "def f(x): \n",
    "    return 3*x**2 - 4*x + 5"
   ]
  },
  {
   "cell_type": "code",
   "execution_count": null,
   "id": "24ac5dd3",
   "metadata": {},
   "outputs": [],
   "source": [
    "f(3.0)"
   ]
  }
 ],
 "metadata": {
  "kernelspec": {
   "display_name": "Python 3 (ipykernel)",
   "language": "python",
   "name": "python3"
  },
  "language_info": {
   "codemirror_mode": {
    "name": "ipython",
    "version": 3
   },
   "file_extension": ".py",
   "mimetype": "text/x-python",
   "name": "python",
   "nbconvert_exporter": "python",
   "pygments_lexer": "ipython3",
   "version": "3.11.14"
  }
 },
 "nbformat": 4,
 "nbformat_minor": 5
}
